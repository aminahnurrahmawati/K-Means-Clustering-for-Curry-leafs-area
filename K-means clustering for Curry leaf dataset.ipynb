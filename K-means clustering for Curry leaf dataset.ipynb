{
 "cells": [
  {
   "cell_type": "markdown",
   "metadata": {},
   "source": [
    "# This is Python code for K-Means clustering and geometric mean and standard deviation which is applied to Curry leaf dataset"
   ]
  },
  {
   "cell_type": "code",
   "execution_count": 35,
   "metadata": {},
   "outputs": [],
   "source": [
    "import numpy as np\n",
    "import matplotlib.pyplot as plt\n",
    "import pandas as pd"
   ]
  },
  {
   "cell_type": "code",
   "execution_count": 36,
   "metadata": {
    "scrolled": true
   },
   "outputs": [
    {
     "data": {
      "text/html": [
       "<div>\n",
       "<style scoped>\n",
       "    .dataframe tbody tr th:only-of-type {\n",
       "        vertical-align: middle;\n",
       "    }\n",
       "\n",
       "    .dataframe tbody tr th {\n",
       "        vertical-align: top;\n",
       "    }\n",
       "\n",
       "    .dataframe thead th {\n",
       "        text-align: right;\n",
       "    }\n",
       "</style>\n",
       "<table border=\"1\" class=\"dataframe\">\n",
       "  <thead>\n",
       "    <tr style=\"text-align: right;\">\n",
       "      <th></th>\n",
       "      <th>daun</th>\n",
       "      <th>length (cm)</th>\n",
       "      <th>width (cm)</th>\n",
       "      <th>Area(cm^2)</th>\n",
       "    </tr>\n",
       "  </thead>\n",
       "  <tbody>\n",
       "    <tr>\n",
       "      <th>0</th>\n",
       "      <td>1</td>\n",
       "      <td>3.8</td>\n",
       "      <td>1.6</td>\n",
       "      <td>6.08</td>\n",
       "    </tr>\n",
       "    <tr>\n",
       "      <th>1</th>\n",
       "      <td>2</td>\n",
       "      <td>4.3</td>\n",
       "      <td>1.8</td>\n",
       "      <td>7.74</td>\n",
       "    </tr>\n",
       "    <tr>\n",
       "      <th>2</th>\n",
       "      <td>3</td>\n",
       "      <td>3.5</td>\n",
       "      <td>1.7</td>\n",
       "      <td>5.95</td>\n",
       "    </tr>\n",
       "    <tr>\n",
       "      <th>3</th>\n",
       "      <td>4</td>\n",
       "      <td>3.7</td>\n",
       "      <td>1.6</td>\n",
       "      <td>5.92</td>\n",
       "    </tr>\n",
       "    <tr>\n",
       "      <th>4</th>\n",
       "      <td>5</td>\n",
       "      <td>3.6</td>\n",
       "      <td>1.7</td>\n",
       "      <td>6.12</td>\n",
       "    </tr>\n",
       "    <tr>\n",
       "      <th>...</th>\n",
       "      <td>...</td>\n",
       "      <td>...</td>\n",
       "      <td>...</td>\n",
       "      <td>...</td>\n",
       "    </tr>\n",
       "    <tr>\n",
       "      <th>95</th>\n",
       "      <td>96</td>\n",
       "      <td>3.0</td>\n",
       "      <td>1.6</td>\n",
       "      <td>4.80</td>\n",
       "    </tr>\n",
       "    <tr>\n",
       "      <th>96</th>\n",
       "      <td>97</td>\n",
       "      <td>4.0</td>\n",
       "      <td>1.7</td>\n",
       "      <td>6.80</td>\n",
       "    </tr>\n",
       "    <tr>\n",
       "      <th>97</th>\n",
       "      <td>98</td>\n",
       "      <td>2.9</td>\n",
       "      <td>1.8</td>\n",
       "      <td>5.22</td>\n",
       "    </tr>\n",
       "    <tr>\n",
       "      <th>98</th>\n",
       "      <td>99</td>\n",
       "      <td>2.5</td>\n",
       "      <td>1.6</td>\n",
       "      <td>4.00</td>\n",
       "    </tr>\n",
       "    <tr>\n",
       "      <th>99</th>\n",
       "      <td>100</td>\n",
       "      <td>4.1</td>\n",
       "      <td>1.7</td>\n",
       "      <td>6.97</td>\n",
       "    </tr>\n",
       "  </tbody>\n",
       "</table>\n",
       "<p>100 rows × 4 columns</p>\n",
       "</div>"
      ],
      "text/plain": [
       "    daun  length (cm)  width (cm)  Area(cm^2)\n",
       "0      1          3.8         1.6        6.08\n",
       "1      2          4.3         1.8        7.74\n",
       "2      3          3.5         1.7        5.95\n",
       "3      4          3.7         1.6        5.92\n",
       "4      5          3.6         1.7        6.12\n",
       "..   ...          ...         ...         ...\n",
       "95    96          3.0         1.6        4.80\n",
       "96    97          4.0         1.7        6.80\n",
       "97    98          2.9         1.8        5.22\n",
       "98    99          2.5         1.6        4.00\n",
       "99   100          4.1         1.7        6.97\n",
       "\n",
       "[100 rows x 4 columns]"
      ]
     },
     "execution_count": 36,
     "metadata": {},
     "output_type": "execute_result"
    }
   ],
   "source": [
    "#this dataset was obtained by measuring the length and width of each one of 100 Curry (Murraya koenigii) leaf manually (we call it Daun kari in Bahasa)\n",
    "\n",
    "dataset= pd.read_csv('Murraya_koenigii_Salam Sakoja_Daun_Kari.csv', delimiter=';')\n",
    "dataset"
   ]
  },
  {
   "cell_type": "markdown",
   "metadata": {},
   "source": [
    "You can check how the Curry leaf looks like on this website : https://gardenerspath.com/plants/herbs/grow-curry-leaf/"
   ]
  },
  {
   "cell_type": "code",
   "execution_count": 37,
   "metadata": {},
   "outputs": [
    {
     "data": {
      "text/plain": [
       "Text(0, 0.5, 'the area of each leaf')"
      ]
     },
     "execution_count": 37,
     "metadata": {},
     "output_type": "execute_result"
    },
    {
     "data": {
      "image/png": "[encoded data removed]",
      "text/plain": [
       "<Figure size 432x288 with 1 Axes>"
      ]
     },
     "metadata": {
      "needs_background": "light"
     },
     "output_type": "display_data"
    }
   ],
   "source": [
    "#let's observe the distribution of area of each Curry leaf by plotting them \n",
    "\n",
    "n=dataset['daun'].values #the total of the Murraya Koenigii leaf sample\n",
    "Area=dataset['Area(cm^2)'].values\n",
    "\n",
    "plt.scatter(n,Area)\n",
    "plt.xlabel(\"leaf\")\n",
    "plt.ylabel(\"the area of each leaf\")"
   ]
  },
  {
   "cell_type": "code",
   "execution_count": 38,
   "metadata": {},
   "outputs": [
    {
     "data": {
      "text/plain": [
       "array([[  1.   ,   6.08 ],\n",
       "       [  2.   ,   7.74 ],\n",
       "       [  3.   ,   5.95 ],\n",
       "       [  4.   ,   5.92 ],\n",
       "       [  5.   ,   6.12 ],\n",
       "       [  6.   ,   7.98 ],\n",
       "       [  7.   ,   7.79 ],\n",
       "       [  8.   ,   7.31 ],\n",
       "       [  9.   ,   9.   ],\n",
       "       [ 10.   ,   7.961],\n",
       "       [ 11.   ,   7.055],\n",
       "       [ 12.   ,   6.24 ],\n",
       "       [ 13.   ,   7.65 ],\n",
       "       [ 14.   ,   7.03 ],\n",
       "       [ 15.   ,   6.63 ],\n",
       "       [ 16.   ,   9.45 ],\n",
       "       [ 17.   ,   9.9  ],\n",
       "       [ 18.   ,  10.23 ],\n",
       "       [ 19.   ,   5.355],\n",
       "       [ 20.   ,   4.9  ],\n",
       "       [ 21.   ,   6.24 ],\n",
       "       [ 22.   ,   8.1  ],\n",
       "       [ 23.   ,   6.24 ],\n",
       "       [ 24.   ,   7.79 ],\n",
       "       [ 25.   ,   8.36 ],\n",
       "       [ 26.   ,   6.08 ],\n",
       "       [ 27.   ,   5.8  ],\n",
       "       [ 28.   ,   7.41 ],\n",
       "       [ 29.   ,   6.46 ],\n",
       "       [ 30.   ,   6.63 ],\n",
       "       [ 31.   ,   4.42 ],\n",
       "       [ 32.   ,   6.56 ],\n",
       "       [ 33.   ,   7.98 ],\n",
       "       [ 34.   ,   7.98 ],\n",
       "       [ 35.   ,   8.   ],\n",
       "       [ 36.   ,   7.6  ],\n",
       "       [ 37.   ,   3.84 ],\n",
       "       [ 38.   ,   6.46 ],\n",
       "       [ 39.   ,   3.08 ],\n",
       "       [ 40.   ,   5.76 ],\n",
       "       [ 41.   ,   6.84 ],\n",
       "       [ 42.   ,   5.22 ],\n",
       "       [ 43.   ,   8.64 ],\n",
       "       [ 44.   ,   6.84 ],\n",
       "       [ 45.   ,   5.27 ],\n",
       "       [ 46.   ,   6.46 ],\n",
       "       [ 47.   ,   6.66 ],\n",
       "       [ 48.   ,   5.92 ],\n",
       "       [ 49.   ,   5.6  ],\n",
       "       [ 50.   ,   6.8  ],\n",
       "       [ 51.   ,   4.96 ],\n",
       "       [ 52.   ,   5.12 ],\n",
       "       [ 53.   ,   5.445],\n",
       "       [ 54.   ,   3.23 ],\n",
       "       [ 55.   ,   4.16 ],\n",
       "       [ 56.   ,   4.06 ],\n",
       "       [ 57.   ,   4.8  ],\n",
       "       [ 58.   ,   3.45 ],\n",
       "       [ 59.   ,   4.16 ],\n",
       "       [ 60.   ,   5.95 ],\n",
       "       [ 61.   ,  10.12 ],\n",
       "       [ 62.   ,   8.28 ],\n",
       "       [ 63.   ,   6.12 ],\n",
       "       [ 64.   ,   6.29 ],\n",
       "       [ 65.   ,   7.56 ],\n",
       "       [ 66.   ,   5.12 ],\n",
       "       [ 67.   ,   4.8  ],\n",
       "       [ 68.   ,   5.28 ],\n",
       "       [ 69.   ,   6.97 ],\n",
       "       [ 70.   ,   5.4  ],\n",
       "       [ 71.   ,   4.75 ],\n",
       "       [ 72.   ,   5.28 ],\n",
       "       [ 73.   ,   7.2  ],\n",
       "       [ 74.   ,   8.1  ],\n",
       "       [ 75.   ,   8.74 ],\n",
       "       [ 76.   ,   5.85 ],\n",
       "       [ 77.   ,   4.5  ],\n",
       "       [ 78.   ,   6.84 ],\n",
       "       [ 79.   ,   5.4  ],\n",
       "       [ 80.   ,   4.5  ],\n",
       "       [ 81.   ,   6.2  ],\n",
       "       [ 82.   ,   4.05 ],\n",
       "       [ 83.   ,   6.12 ],\n",
       "       [ 84.   ,   6.84 ],\n",
       "       [ 85.   ,   7.98 ],\n",
       "       [ 86.   ,   4.   ],\n",
       "       [ 87.   ,   5.76 ],\n",
       "       [ 88.   ,   4.16 ],\n",
       "       [ 89.   ,   4.64 ],\n",
       "       [ 90.   ,   8.8  ],\n",
       "       [ 91.   ,   7.38 ],\n",
       "       [ 92.   ,   5.27 ],\n",
       "       [ 93.   ,   3.22 ],\n",
       "       [ 94.   ,   5.12 ],\n",
       "       [ 95.   ,   5.1  ],\n",
       "       [ 96.   ,   4.8  ],\n",
       "       [ 97.   ,   6.8  ],\n",
       "       [ 98.   ,   5.22 ],\n",
       "       [ 99.   ,   4.   ],\n",
       "       [100.   ,   6.97 ]])"
      ]
     },
     "execution_count": 38,
     "metadata": {},
     "output_type": "execute_result"
    }
   ],
   "source": [
    "X = dataset.iloc[:, [0, 3]].values\n",
    "\n",
    "X #the area of each leaf that we want to cluster"
   ]
  },
  {
   "cell_type": "code",
   "execution_count": 39,
   "metadata": {},
   "outputs": [
    {
     "data": {
      "text/plain": [
       "[<matplotlib.lines.Line2D at 0x20c6002c370>,\n",
       " <matplotlib.lines.Line2D at 0x20c6002c460>]"
      ]
     },
     "execution_count": 39,
     "metadata": {},
     "output_type": "execute_result"
    },
    {
     "data": {
      "image/png": "[encoded data removed]",
      "text/plain": [
       "<Figure size 432x288 with 1 Axes>"
      ]
     },
     "metadata": {
      "needs_background": "light"
     },
     "output_type": "display_data"
    }
   ],
   "source": [
    "plt.plot(X)"
   ]
  },
  {
   "cell_type": "code",
   "execution_count": 40,
   "metadata": {},
   "outputs": [
    {
     "data": {
      "image/png": "[encoded data removed]",
      "text/plain": [
       "<Figure size 432x288 with 1 Axes>"
      ]
     },
     "metadata": {
      "needs_background": "light"
     },
     "output_type": "display_data"
    }
   ],
   "source": [
    "\n",
    "from sklearn.cluster import KMeans\n",
    "wcss = []\n",
    "for i in range(1, 11):\n",
    "    kmeans = KMeans(n_clusters = i, init = 'k-means++', random_state = 42)\n",
    "    kmeans.fit(X)\n",
    "    wcss.append(kmeans.inertia_)\n",
    "plt.plot(range(1, 11), wcss)\n",
    "plt.title('The Elbow Method')\n",
    "plt.xlabel('Number of clusters')\n",
    "plt.ylabel('WCSS')\n",
    "plt.show()"
   ]
  },
  {
   "cell_type": "markdown",
   "metadata": {},
   "source": [
    "Elbow Method is a wethod that we use to obtain the information in defining the number of cluster that is best for our cluster by observing the percentage of comparison among 10 cluster that will shape an elbow at one point"
   ]
  },
  {
   "cell_type": "code",
   "execution_count": 41,
   "metadata": {},
   "outputs": [
    {
     "data": {
      "text/plain": [
       "array([1, 1, 1, 1, 1, 1, 1, 1, 1, 1, 1, 1, 1, 1, 1, 1, 1, 1, 1, 1, 1, 1,\n",
       "       1, 1, 1, 1, 1, 1, 1, 1, 1, 1, 1, 1, 1, 2, 2, 2, 2, 2, 2, 2, 2, 2,\n",
       "       2, 2, 2, 2, 2, 2, 2, 2, 2, 2, 2, 2, 2, 2, 2, 2, 2, 2, 2, 2, 2, 2,\n",
       "       2, 2, 0, 0, 0, 0, 0, 0, 0, 0, 0, 0, 0, 0, 0, 0, 0, 0, 0, 0, 0, 0,\n",
       "       0, 0, 0, 0, 0, 0, 0, 0, 0, 0, 0, 0])"
      ]
     },
     "execution_count": 41,
     "metadata": {},
     "output_type": "execute_result"
    }
   ],
   "source": [
    "kmeans = KMeans(n_clusters = 3, init = 'k-means++', random_state = 42) #elbow point at point 3, as you can see on the plot\n",
    "y_kmeans = kmeans.fit_predict(X)\n",
    "\n",
    "y_kmeans"
   ]
  },
  {
   "cell_type": "code",
   "execution_count": 42,
   "metadata": {},
   "outputs": [
    {
     "data": {
      "image/png": "[encoded data removed]",
      "text/plain": [
       "<Figure size 432x288 with 1 Axes>"
      ]
     },
     "metadata": {
      "needs_background": "light"
     },
     "output_type": "display_data"
    }
   ],
   "source": [
    "plt.scatter(X[y_kmeans == 0, 0], X[y_kmeans == 0, 1], s = 100, c = 'red', label = 'Cluster 1')\n",
    "plt.scatter(X[y_kmeans == 1, 0], X[y_kmeans == 1, 1], s = 100, c = 'blue', label = 'Cluster 2')\n",
    "plt.scatter(X[y_kmeans == 2, 0], X[y_kmeans == 2, 1], s = 100, c = 'green', label = 'Cluster 3')\n",
    "plt.scatter(kmeans.cluster_centers_[:, 0], kmeans.cluster_centers_[:, 1], s = 300, c = 'yellow', label = 'Centroids')\n",
    "plt.title('Clusters of Area')\n",
    "plt.xlabel('Number of Leaf')\n",
    "plt.ylabel('Area of leaf (Cm^2)')\n",
    "plt.legend()\n",
    "plt.show()"
   ]
  },
  {
   "cell_type": "code",
   "execution_count": 43,
   "metadata": {},
   "outputs": [],
   "source": [
    "import scipy as sp\n",
    "\n",
    "Area= dataset.iloc[:,3]\n",
    "\n",
    "lognormal = sp.stats.gstd(Area, axis=0, ddof=1)"
   ]
  },
  {
   "cell_type": "markdown",
   "metadata": {},
   "source": [
    "The geometric standard deviation describes the spread of a set of numbers where the geometric mean is preferred. It is a multiplicative factor, and so a dimensionless quantity.\n",
    "\n",
    "It is defined as the exponent of the standard deviation of log(a). Mathematically the population geometric standard deviation can be evaluated as:"
   ]
  },
  {
   "cell_type": "code",
   "execution_count": 44,
   "metadata": {},
   "outputs": [
    {
     "name": "stdout",
     "output_type": "stream",
     "text": [
      "1.3019064723496716\n"
     ]
    }
   ],
   "source": [
    "print(lognormal)"
   ]
  },
  {
   "cell_type": "code",
   "execution_count": 45,
   "metadata": {},
   "outputs": [],
   "source": [
    "gstd = np.exp(np.std(np.log(Area)))"
   ]
  },
  {
   "cell_type": "code",
   "execution_count": 47,
   "metadata": {},
   "outputs": [
    {
     "name": "stdout",
     "output_type": "stream",
     "text": [
      "1.3001858871646557\n"
     ]
    }
   ],
   "source": [
    "print(gstd) #geometric standard deviation"
   ]
  },
  {
   "cell_type": "code",
   "execution_count": null,
   "metadata": {},
   "outputs": [],
   "source": []
  }
 ],
 "metadata": {
  "kernelspec": {
   "display_name": "Python 3",
   "language": "python",
   "name": "python3"
  },
  "language_info": {
   "codemirror_mode": {
    "name": "ipython",
    "version": 3
   },
   "file_extension": ".py",
   "mimetype": "text/x-python",
   "name": "python",
   "nbconvert_exporter": "python",
   "pygments_lexer": "ipython3",
   "version": "3.8.3"
  }
 },
 "nbformat": 4,
 "nbformat_minor": 4
}
